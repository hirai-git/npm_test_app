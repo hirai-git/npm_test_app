{
 "cells": [
  {
   "cell_type": "code",
   "execution_count": 8,
   "id": "0b0df5ac-f61c-4b7b-aa80-70504b451d2d",
   "metadata": {},
   "outputs": [],
   "source": [
    "import streamlit \n",
    "import pandas\n",
    "import requests\n",
    "import snowflake.connector\n",
    "from urllib.error import URLError\n",
    "\n",
    "streamlit.title('My Parents New Healthy Diner')\n",
    "\n",
    "streamlit.header('Breakfast Menu')\n",
    "streamlit.text('🥣 Omega 3 & Blueberry Oatmeal')\n",
    "streamlit.text('🥗 Kale, Spinach & Rocket Smoothie')\n",
    "streamlit.text('🐔 Hard-Boiled Free-Range Egg')\n",
    "streamlit.text('🥑🍞 Avocado Toast')\n",
    "\n",
    "streamlit.header('🍌🥭 Build Your Own Fruit Smoothie 🥝🍇')\n",
    "#import pandas\n",
    "my_fruit_list = pandas.read_csv(\"https://uni-lab-files.s3.us-west-2.amazonaws.com/dabw/fruit_macros.txt\")\n",
    "my_fruit_list = my_fruit_list.set_index('Fruit')\n",
    "\n",
    "# Let's put a pick list here so they can pick the fruit they want to include \n",
    "fruits_selected = streamlit.multiselect(\"Pick some fruits:\", list(my_fruit_list.index),['Avocado','Strawberries'])\n",
    "fruits_to_show = my_fruit_list.loc[fruits_selected]\n",
    "\n",
    "# Display the table on the page.\n",
    "streamlit.dataframe(fruits_to_show)\n",
    "\n",
    "#create the repeatable code block (called a function)\n",
    "def get_fruityvice_data(this_fruit_choice):\n",
    "   fruityvice_response = requests.get(\"https://fruityvice.com/api/fruit/\" + this_fruit_choice)\n",
    "   fruityvice_normalized = pandas.json_normalize(fruityvice_response.json())\n",
    "   return fruityvice_normalized\n",
    "    \n",
    "# New Section to display fruityvice api response\n",
    "streamlit.header(\"Fruityvice Fruit Advice!\")\n",
    "try:\n",
    "  fruit_choice = streamlit.text_input('What fruit would you like information about?')\n",
    "  if not fruit_choice:\n",
    "    streamlit.error(\"Please select a fruit to get information.\") \n",
    "  else:\n",
    "    #streamlit.write('The user entered ', fruit_choice)    \n",
    "    #import requests\n",
    "      #fruityvice_response = requests.get(\"https://fruityvice.com/api/fruit/\" + fruit_choice)\n",
    "       #streamlit.text(fruityvice_response.json()) #just writes the data to the screen\n",
    "      # take tha json version of the response and normalize it\n",
    "       #fruityvice_normalized = pandas.json_normalize(fruityvice_response.json())\n",
    "      # output it the screen as a table\n",
    "      \n",
    "      back_from_function=get_fruityvice_data(fruit_choice)\n",
    "      #streamlit.dataframe(fruityvice_normalized)\n",
    "      streamlit.dataframe(back_from_function)\n",
    "\n",
    "except URLError as e:\n",
    "    streamlit.error() \n",
    "        \n",
    "\n",
    "\n",
    "\n"
   ]
  },
  {
   "cell_type": "code",
   "execution_count": null,
   "id": "604a4934-ad8c-4b9a-814d-c10acbf5cc7b",
   "metadata": {},
   "outputs": [],
   "source": []
  }
 ],
 "metadata": {
  "kernelspec": {
   "display_name": "Python 3 (ipykernel)",
   "language": "python",
   "name": "python3"
  },
  "language_info": {
   "codemirror_mode": {
    "name": "ipython",
    "version": 3
   },
   "file_extension": ".py",
   "mimetype": "text/x-python",
   "name": "python",
   "nbconvert_exporter": "python",
   "pygments_lexer": "ipython3",
   "version": "3.9.15"
  }
 },
 "nbformat": 4,
 "nbformat_minor": 5
}
